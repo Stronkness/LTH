{
 "cells": [
  {
   "cell_type": "markdown",
   "id": "9ddd0fb8",
   "metadata": {},
   "source": [
    "<!-- -*- mode: markdown; coding: utf-8; fill-column: 60; ispell-dictionary: \"english\" -*- -->\n",
    "\n",
    "<meta charset=\"utf-8\"/>\n",
    "<meta name=\"viewport\" content=\"width=device-width,initial-scale=1\"/>\n",
    "<link rel=\"stylesheet\" href=\"style.css\">\n",
    "\n",
    "\n",
    "# EDAF75 - lab 2: Testing the database\n",
    "\n",
    "As usual we have to tell Jupyter to allow SQL:"
   ]
  },
  {
   "cell_type": "code",
   "execution_count": 111,
   "id": "c8ba870c",
   "metadata": {},
   "outputs": [
    {
     "name": "stdout",
     "output_type": "stream",
     "text": [
      "The sql extension is already loaded. To reload it, use:\n",
      "  %reload_ext sql\n"
     ]
    }
   ],
   "source": [
    "%load_ext sql"
   ]
  },
  {
   "cell_type": "markdown",
   "id": "845e42bb",
   "metadata": {},
   "source": [
    "And then we import our movie database"
   ]
  },
  {
   "cell_type": "code",
   "execution_count": 112,
   "id": "56328b4d",
   "metadata": {},
   "outputs": [],
   "source": [
    "%sql sqlite:///movies.sqlite"
   ]
  },
  {
   "cell_type": "markdown",
   "id": "91dc1263",
   "metadata": {},
   "source": [
    "We want to make sure that SQLite3 really checks our foreign\n",
    "key constraints -- to do that, we run:"
   ]
  },
  {
   "cell_type": "code",
   "execution_count": 113,
   "id": "19fb92fd",
   "metadata": {},
   "outputs": [
    {
     "name": "stdout",
     "output_type": "stream",
     "text": [
      " * sqlite:///movies.sqlite\n",
      "Done.\n"
     ]
    },
    {
     "data": {
      "text/plain": [
       "[]"
      ]
     },
     "execution_count": 113,
     "metadata": {},
     "output_type": "execute_result"
    }
   ],
   "source": [
    "%%sql\n",
    "PRAGMA foreign_keys=ON;"
   ]
  },
  {
   "cell_type": "code",
   "execution_count": 114,
   "id": "f72852c4",
   "metadata": {},
   "outputs": [
    {
     "name": "stdout",
     "output_type": "stream",
     "text": [
      " * sqlite:///movies.sqlite\n",
      "2 rows affected.\n"
     ]
    },
    {
     "data": {
      "text/plain": [
       "[]"
      ]
     },
     "execution_count": 114,
     "metadata": {},
     "output_type": "execute_result"
    }
   ],
   "source": [
    "%%sql\n",
    "INSERT INTO teathers(name, capacity)\n",
    "VALUES (\"Lund\", 200),\n",
    "       (\"Malmö\", 400)"
   ]
  },
  {
   "cell_type": "code",
   "execution_count": 115,
   "id": "8006bd0f",
   "metadata": {},
   "outputs": [
    {
     "name": "stdout",
     "output_type": "stream",
     "text": [
      " * sqlite:///movies.sqlite\n",
      "2 rows affected.\n"
     ]
    },
    {
     "data": {
      "text/plain": [
       "[]"
      ]
     },
     "execution_count": 115,
     "metadata": {},
     "output_type": "execute_result"
    }
   ],
   "source": [
    "%%sql\n",
    "INSERT INTO movies(imdb_key, title, prod_year, running_time)\n",
    "VALUES (\"tgrjgu64737\", \"Stab Reveal 2022\", \"2022\", 5),\n",
    "       (\"tgdfgdfg75\", \"12 Mighty Orphans\", \"2021\", 118)"
   ]
  },
  {
   "cell_type": "code",
   "execution_count": 116,
   "id": "1b4fe2b9",
   "metadata": {},
   "outputs": [
    {
     "name": "stdout",
     "output_type": "stream",
     "text": [
      " * sqlite:///movies.sqlite\n",
      "2 rows affected.\n"
     ]
    },
    {
     "data": {
      "text/plain": [
       "[]"
      ]
     },
     "execution_count": 116,
     "metadata": {},
     "output_type": "execute_result"
    }
   ],
   "source": [
    "%%sql\n",
    "INSERT INTO screenings(uid, start_date, start_time, title, teather, seats, imdb_key)\n",
    "VALUES (\"abc123\", \"2022-01-01\", \"19:30\", \"Stab Reveal 2022\", \"Lund\", 200, \"tgrjgu64737\"),\n",
    "       (\"123abc\", \"2022-02-21\", \"20:00\", \"12 Mighty Orphans\", \"Malmö\", 400, \"tgdfgdfg75\")"
   ]
  },
  {
   "cell_type": "code",
   "execution_count": 117,
   "id": "a9f99113",
   "metadata": {},
   "outputs": [
    {
     "name": "stdout",
     "output_type": "stream",
     "text": [
      " * sqlite:///movies.sqlite\n",
      "2 rows affected.\n"
     ]
    },
    {
     "data": {
      "text/plain": [
       "[]"
      ]
     },
     "execution_count": 117,
     "metadata": {},
     "output_type": "execute_result"
    }
   ],
   "source": [
    "%%sql\n",
    "INSERT INTO customers(username, full_name, password)\n",
    "VALUES (\"an8218fr-s\", \"André Frisk\", \"ajabaja\"),\n",
    "       (\"lucat\", \"Lina Ekskog\", \"abc123\")"
   ]
  },
  {
   "cell_type": "code",
   "execution_count": 118,
   "id": "64017fa4",
   "metadata": {},
   "outputs": [
    {
     "name": "stdout",
     "output_type": "stream",
     "text": [
      " * sqlite:///movies.sqlite\n",
      "2 rows affected.\n"
     ]
    },
    {
     "data": {
      "text/plain": [
       "[]"
      ]
     },
     "execution_count": 118,
     "metadata": {},
     "output_type": "execute_result"
    }
   ],
   "source": [
    "%%sql\n",
    "INSERT INTO ticket(screening, ticket_holder)\n",
    "VALUES (\"abc123\", \"an8218fr-s\"),\n",
    "       (\"123abc\", \"lucat\")"
   ]
  },
  {
   "cell_type": "markdown",
   "id": "1c8d51d7",
   "metadata": {},
   "source": [
    "## SQL statements to review at the lab session\n",
    "\n",
    "Write SQL code for the following tasks:\n",
    "\n",
    "+ Show the names of all movies."
   ]
  },
  {
   "cell_type": "code",
   "execution_count": 119,
   "id": "23ba4117",
   "metadata": {},
   "outputs": [
    {
     "name": "stdout",
     "output_type": "stream",
     "text": [
      " * sqlite:///movies.sqlite\n",
      "Done.\n"
     ]
    },
    {
     "data": {
      "text/html": [
       "<table>\n",
       "    <tr>\n",
       "        <th>imdb_key</th>\n",
       "        <th>title</th>\n",
       "        <th>prod_year</th>\n",
       "        <th>running_time</th>\n",
       "    </tr>\n",
       "    <tr>\n",
       "        <td>tgrjgu64737</td>\n",
       "        <td>Stab Reveal 2022</td>\n",
       "        <td>2022</td>\n",
       "        <td>5</td>\n",
       "    </tr>\n",
       "    <tr>\n",
       "        <td>tgdfgdfg75</td>\n",
       "        <td>12 Mighty Orphans</td>\n",
       "        <td>2021</td>\n",
       "        <td>118</td>\n",
       "    </tr>\n",
       "</table>"
      ],
      "text/plain": [
       "[('tgrjgu64737', 'Stab Reveal 2022', 2022, 5),\n",
       " ('tgdfgdfg75', '12 Mighty Orphans', 2021, 118)]"
      ]
     },
     "execution_count": 119,
     "metadata": {},
     "output_type": "execute_result"
    }
   ],
   "source": [
    "%%sql\n",
    "SELECT *\n",
    "FROM movies"
   ]
  },
  {
   "cell_type": "markdown",
   "id": "e1d9e3f5",
   "metadata": {},
   "source": [
    "+ Show the performance dates for one of the movies."
   ]
  },
  {
   "cell_type": "code",
   "execution_count": 120,
   "id": "7c05609f",
   "metadata": {},
   "outputs": [
    {
     "name": "stdout",
     "output_type": "stream",
     "text": [
      " * sqlite:///movies.sqlite\n",
      "Done.\n"
     ]
    },
    {
     "data": {
      "text/html": [
       "<table>\n",
       "    <tr>\n",
       "        <th>uid</th>\n",
       "        <th>start_date</th>\n",
       "        <th>start_time</th>\n",
       "        <th>title</th>\n",
       "        <th>teather</th>\n",
       "        <th>seats</th>\n",
       "        <th>imdb_key</th>\n",
       "    </tr>\n",
       "    <tr>\n",
       "        <td>abc123</td>\n",
       "        <td>2022-01-01</td>\n",
       "        <td>19:30</td>\n",
       "        <td>Stab Reveal 2022</td>\n",
       "        <td>Lund</td>\n",
       "        <td>200</td>\n",
       "        <td>tgrjgu64737</td>\n",
       "    </tr>\n",
       "    <tr>\n",
       "        <td>123abc</td>\n",
       "        <td>2022-02-21</td>\n",
       "        <td>20:00</td>\n",
       "        <td>12 Mighty Orphans</td>\n",
       "        <td>Malmö</td>\n",
       "        <td>400</td>\n",
       "        <td>tgdfgdfg75</td>\n",
       "    </tr>\n",
       "</table>"
      ],
      "text/plain": [
       "[('abc123', '2022-01-01', '19:30', 'Stab Reveal 2022', 'Lund', 200, 'tgrjgu64737'),\n",
       " ('123abc', '2022-02-21', '20:00', '12 Mighty Orphans', 'Malmö', 400, 'tgdfgdfg75')]"
      ]
     },
     "execution_count": 120,
     "metadata": {},
     "output_type": "execute_result"
    }
   ],
   "source": [
    "%%sql\n",
    "SELECT *\n",
    "FROM screenings"
   ]
  },
  {
   "cell_type": "markdown",
   "id": "d113d9ff",
   "metadata": {},
   "source": [
    "+ Show all data concerning performances at a given theatere\n",
    "  on a given date."
   ]
  },
  {
   "cell_type": "code",
   "execution_count": 121,
   "id": "362ecfeb",
   "metadata": {},
   "outputs": [
    {
     "name": "stdout",
     "output_type": "stream",
     "text": [
      " * sqlite:///movies.sqlite\n",
      "Done.\n"
     ]
    },
    {
     "data": {
      "text/html": [
       "<table>\n",
       "    <tr>\n",
       "        <th>name</th>\n",
       "        <th>capacity</th>\n",
       "        <th>uid</th>\n",
       "        <th>start_date</th>\n",
       "        <th>start_time</th>\n",
       "        <th>title</th>\n",
       "        <th>teather</th>\n",
       "        <th>seats</th>\n",
       "        <th>imdb_key</th>\n",
       "    </tr>\n",
       "    <tr>\n",
       "        <td>Lund</td>\n",
       "        <td>200</td>\n",
       "        <td>abc123</td>\n",
       "        <td>2022-01-01</td>\n",
       "        <td>19:30</td>\n",
       "        <td>Stab Reveal 2022</td>\n",
       "        <td>Lund</td>\n",
       "        <td>200</td>\n",
       "        <td>tgrjgu64737</td>\n",
       "    </tr>\n",
       "</table>"
      ],
      "text/plain": [
       "[('Lund', 200, 'abc123', '2022-01-01', '19:30', 'Stab Reveal 2022', 'Lund', 200, 'tgrjgu64737')]"
      ]
     },
     "execution_count": 121,
     "metadata": {},
     "output_type": "execute_result"
    }
   ],
   "source": [
    "%%sql\n",
    "SELECT *\n",
    "FROM teathers AS t\n",
    "JOIN screenings AS s\n",
    "ON s.teather = t.name\n",
    "WHERE t.name = \"Lund\" AND s.start_date = \"2022-01-01\""
   ]
  },
  {
   "cell_type": "markdown",
   "id": "7fd56d9f",
   "metadata": {},
   "source": [
    "+ List all customers"
   ]
  },
  {
   "cell_type": "code",
   "execution_count": 122,
   "id": "b6b2ab68",
   "metadata": {},
   "outputs": [
    {
     "name": "stdout",
     "output_type": "stream",
     "text": [
      " * sqlite:///movies.sqlite\n",
      "Done.\n"
     ]
    },
    {
     "data": {
      "text/html": [
       "<table>\n",
       "    <tr>\n",
       "        <th>username</th>\n",
       "        <th>full_name</th>\n",
       "        <th>password</th>\n",
       "    </tr>\n",
       "    <tr>\n",
       "        <td>an8218fr-s</td>\n",
       "        <td>André Frisk</td>\n",
       "        <td>ajabaja</td>\n",
       "    </tr>\n",
       "    <tr>\n",
       "        <td>lucat</td>\n",
       "        <td>Lina Ekskog</td>\n",
       "        <td>abc123</td>\n",
       "    </tr>\n",
       "</table>"
      ],
      "text/plain": [
       "[('an8218fr-s', 'André Frisk', 'ajabaja'), ('lucat', 'Lina Ekskog', 'abc123')]"
      ]
     },
     "execution_count": 122,
     "metadata": {},
     "output_type": "execute_result"
    }
   ],
   "source": [
    "%%sql\n",
    "SELECT *\n",
    "FROM customers"
   ]
  },
  {
   "cell_type": "markdown",
   "id": "e1f7f39b",
   "metadata": {},
   "source": [
    "+ List all tickets"
   ]
  },
  {
   "cell_type": "code",
   "execution_count": 123,
   "id": "f2d2f36c",
   "metadata": {},
   "outputs": [
    {
     "name": "stdout",
     "output_type": "stream",
     "text": [
      " * sqlite:///movies.sqlite\n",
      "Done.\n"
     ]
    },
    {
     "data": {
      "text/html": [
       "<table>\n",
       "    <tr>\n",
       "        <th>id</th>\n",
       "        <th>screening</th>\n",
       "        <th>ticket_holder</th>\n",
       "    </tr>\n",
       "    <tr>\n",
       "        <td>1842530da30cb67b1456d20f67f09fe7</td>\n",
       "        <td>abc123</td>\n",
       "        <td>an8218fr-s</td>\n",
       "    </tr>\n",
       "    <tr>\n",
       "        <td>544d3f743cd236d0fa45a0ad061ea851</td>\n",
       "        <td>123abc</td>\n",
       "        <td>lucat</td>\n",
       "    </tr>\n",
       "</table>"
      ],
      "text/plain": [
       "[('1842530da30cb67b1456d20f67f09fe7', 'abc123', 'an8218fr-s'),\n",
       " ('544d3f743cd236d0fa45a0ad061ea851', '123abc', 'lucat')]"
      ]
     },
     "execution_count": 123,
     "metadata": {},
     "output_type": "execute_result"
    }
   ],
   "source": [
    "%%sql\n",
    "SELECT *\n",
    "FROM ticket"
   ]
  },
  {
   "cell_type": "markdown",
   "id": "7e503f23",
   "metadata": {},
   "source": [
    "## Things to try out yourselves (not reviewed at the lab session)\n",
    "\n",
    "During lab 3 you'll write a REST service for the database\n",
    "you just created, and for the server to work properly, the\n",
    "things below should work.\n",
    "\n",
    "If you have any questions about the material below, feel\n",
    "free to ask them at the QA sessions (see Moodle for how to\n",
    "sign up for them).\n",
    "\n",
    "\n",
    "+ Create a new ticket to some performance (i.e., insert a\n",
    "  new row in your table of tickets)."
   ]
  },
  {
   "cell_type": "code",
   "execution_count": 124,
   "id": "e18db04f",
   "metadata": {},
   "outputs": [
    {
     "name": "stdout",
     "output_type": "stream",
     "text": [
      " * sqlite:///movies.sqlite\n",
      "1 rows affected.\n"
     ]
    },
    {
     "data": {
      "text/plain": [
       "[]"
      ]
     },
     "execution_count": 124,
     "metadata": {},
     "output_type": "execute_result"
    }
   ],
   "source": [
    "%%sql\n",
    "INSERT \n",
    "INTO ticket(screening, ticket_holder)\n",
    "VALUES (\"123abc\", \"lucat\")"
   ]
  },
  {
   "cell_type": "markdown",
   "id": "1ee46018",
   "metadata": {},
   "source": [
    "In newer versions of SQLite (since version 3.35, released\n",
    "  in March 2021), and in\n",
    "  [PostgreSQL](https://www.postgresql.org/docs/current/sql-insert.html),\n",
    "  we can get any value generated during an insert using the\n",
    "  `INSERT...-RETURNING` statement:"
   ]
  },
  {
   "cell_type": "markdown",
   "id": "0dcccdf6",
   "metadata": {},
   "source": [
    "~~~{.sql}\n",
    "INSERT\n",
    "INTO       students\n",
    "VALUES     ('Amy', 3.9, 1200)\n",
    "RETURNING  s_id\n",
    "~~~\n"
   ]
  },
  {
   "cell_type": "markdown",
   "id": "8ed38a70",
   "metadata": {},
   "source": [
    "which would return the generated `s_id` for the new\n",
    "  student.\n",
    "\n",
    "  If your SQLite version is older than 3.35, and you can't\n",
    "  upgrade, you can instead use the following idea: each row\n",
    "  in a SQLite3 table has a `rowid` attribute, it is a unique\n",
    "  integer which essentially tells in which order the rows\n",
    "  were inserted, and it's not displayed in queries unless we\n",
    "  ask for it. SQLite3 also have a function,\n",
    "  `last_insert_rowid()`, which returns the `rowid` of the\n",
    "  last inserted row of a table, so we can see the `s_id` of\n",
    "  the most recently inserted student with the following\n",
    "  query:"
   ]
  },
  {
   "cell_type": "markdown",
   "id": "67581017",
   "metadata": {},
   "source": [
    "~~~{.sql}\n",
    "SELECT s_id\n",
    "FROM   students\n",
    "WHERE  rowid = last_insert_rowid();\n",
    "~~~\n"
   ]
  },
  {
   "cell_type": "markdown",
   "id": "b58bc8be",
   "metadata": {},
   "source": [
    "Now, check what ticket number we got for the ticket we\n",
    "  created above (it should be the same as the ticket id,\n",
    "  which should be a `randomblob`):"
   ]
  },
  {
   "cell_type": "code",
   "execution_count": 125,
   "id": "e178c421",
   "metadata": {},
   "outputs": [
    {
     "name": "stdout",
     "output_type": "stream",
     "text": [
      " * sqlite:///movies.sqlite\n",
      "Done.\n"
     ]
    },
    {
     "data": {
      "text/html": [
       "<table>\n",
       "    <tr>\n",
       "        <th>id</th>\n",
       "        <th>screening</th>\n",
       "        <th>ticket_holder</th>\n",
       "    </tr>\n",
       "    <tr>\n",
       "        <td>1842530da30cb67b1456d20f67f09fe7</td>\n",
       "        <td>abc123</td>\n",
       "        <td>an8218fr-s</td>\n",
       "    </tr>\n",
       "    <tr>\n",
       "        <td>544d3f743cd236d0fa45a0ad061ea851</td>\n",
       "        <td>123abc</td>\n",
       "        <td>lucat</td>\n",
       "    </tr>\n",
       "    <tr>\n",
       "        <td>1efe486c00f68dc9008a53cdf03f26ea</td>\n",
       "        <td>123abc</td>\n",
       "        <td>lucat</td>\n",
       "    </tr>\n",
       "</table>"
      ],
      "text/plain": [
       "[('1842530da30cb67b1456d20f67f09fe7', 'abc123', 'an8218fr-s'),\n",
       " ('544d3f743cd236d0fa45a0ad061ea851', '123abc', 'lucat'),\n",
       " ('1efe486c00f68dc9008a53cdf03f26ea', '123abc', 'lucat')]"
      ]
     },
     "execution_count": 125,
     "metadata": {},
     "output_type": "execute_result"
    }
   ],
   "source": [
    "%%sql\n",
    "SELECT *\n",
    "FROM ticket"
   ]
  },
  {
   "cell_type": "markdown",
   "id": "de09d2d9",
   "metadata": {},
   "source": [
    "+ Try to insert two movie theaters with the same name (this\n",
    "  should fail)."
   ]
  },
  {
   "cell_type": "code",
   "execution_count": 126,
   "id": "6a3b470d",
   "metadata": {},
   "outputs": [
    {
     "name": "stdout",
     "output_type": "stream",
     "text": [
      " * sqlite:///movies.sqlite\n",
      "2 rows affected.\n"
     ]
    },
    {
     "data": {
      "text/plain": [
       "[]"
      ]
     },
     "execution_count": 126,
     "metadata": {},
     "output_type": "execute_result"
    }
   ],
   "source": [
    "%%sql\n",
    "INSERT \n",
    "INTO teathers(name, capacity)\n",
    "VALUES (\"Helsingborg\", 50), (\"Lomma\", 75)"
   ]
  },
  {
   "cell_type": "markdown",
   "id": "0df97d24",
   "metadata": {},
   "source": [
    "+ Try to insert a performance where the theater doesn’t\n",
    "  exist in the database (this should fail)."
   ]
  },
  {
   "cell_type": "code",
   "execution_count": 127,
   "id": "c2b7e7dc",
   "metadata": {},
   "outputs": [
    {
     "name": "stdout",
     "output_type": "stream",
     "text": [
      " * sqlite:///movies.sqlite\n",
      "(sqlite3.IntegrityError) FOREIGN KEY constraint failed\n",
      "[SQL: INSERT \n",
      "INTO screenings(start_time, title, teather)\n",
      "VALUES (\"1998-09-18\", \"Stab Reveal 2022\", \"Tomelilla\")]\n",
      "(Background on this error at: https://sqlalche.me/e/14/gkpj)\n"
     ]
    }
   ],
   "source": [
    "%%sql\n",
    "INSERT \n",
    "INTO screenings(start_time, title, teather)\n",
    "VALUES (\"1998-09-18\", \"Stab Reveal 2022\", \"Tomelilla\")"
   ]
  },
  {
   "cell_type": "markdown",
   "id": "41772f37",
   "metadata": {},
   "source": [
    "+ Create a ticket where either the user or the performance\n",
    "  doesn’t exist (this should fail)."
   ]
  },
  {
   "cell_type": "code",
   "execution_count": 128,
   "id": "3e13404b",
   "metadata": {},
   "outputs": [
    {
     "name": "stdout",
     "output_type": "stream",
     "text": [
      " * sqlite:///movies.sqlite\n",
      "(sqlite3.IntegrityError) FOREIGN KEY constraint failed\n",
      "[SQL: INSERT \n",
      "INTO ticket(screening, ticket_holder)\n",
      "VALUES (\"123abc\", \"sebbe\")]\n",
      "(Background on this error at: https://sqlalche.me/e/14/gkpj)\n"
     ]
    }
   ],
   "source": [
    "%%sql\n",
    "INSERT \n",
    "INTO ticket(screening, ticket_holder)\n",
    "VALUES (\"123abc\", \"sebbe\")"
   ]
  }
 ],
 "metadata": {
  "kernelspec": {
   "display_name": "Python 3",
   "language": "python",
   "name": "python3"
  },
  "language_info": {
   "codemirror_mode": {
    "name": "ipython",
    "version": 3
   },
   "file_extension": ".py",
   "mimetype": "text/x-python",
   "name": "python",
   "nbconvert_exporter": "python",
   "pygments_lexer": "ipython3",
   "version": "3.10.6"
  },
  "vscode": {
   "interpreter": {
    "hash": "916dbcbb3f70747c44a77c7bcd40155683ae19c65e1c03b4aa3499c5328201f1"
   }
  }
 },
 "nbformat": 4,
 "nbformat_minor": 5
}
